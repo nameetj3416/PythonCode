{
 "cells": [
  {
   "cell_type": "code",
   "execution_count": 5,
   "metadata": {},
   "outputs": [
    {
     "name": "stdout",
     "output_type": "stream",
     "text": [
      "Hello Nameet\n"
     ]
    }
   ],
   "source": [
    "# A minimalistic python class creation and its object creation\n",
    "class Person():\n",
    "    def sayHi(self,name):\n",
    "        print(\"Hello \"+name)\n",
    "\n",
    "p=Person()\n",
    "p.sayHi(\"Nameet\")"
   ]
  },
  {
   "cell_type": "code",
   "execution_count": 4,
   "metadata": {},
   "outputs": [
    {
     "name": "stdout",
     "output_type": "stream",
     "text": [
      "Hello NJ\n",
      "My name is NJ\n",
      "My college is DTU\n",
      "5\n"
     ]
    }
   ],
   "source": [
    "# Constructor Creation\n",
    "\"\"\"if any function is written in a class it has to have self as its parameter.\"\"\"\n",
    "class Personc():\n",
    "    #Declaration of a constructor\n",
    "    def __init__(self,pname,clg):\n",
    "        self.name=pname\n",
    "        self.college=clg\n",
    "    \n",
    "    def sayHi(self):\n",
    "        print(\"Hello \"+self.name)\n",
    "    def show(self):\n",
    "        print(5)\n",
    "    def introduce(self):\n",
    "        print(\"My name is \"+self.name)\n",
    "        print(\"My college is \"+self.college)\n",
    "\n",
    "\n",
    "p=Personc(\"NJ\",\"DTU\")\n",
    "p.sayHi()\n",
    "p.introduce()\n",
    "p.show()"
   ]
  },
  {
   "cell_type": "code",
   "execution_count": 3,
   "metadata": {},
   "outputs": [
    {
     "name": "stdout",
     "output_type": "stream",
     "text": [
      "German Shephard\n",
      "['HighJump', 'Roll Over']\n",
      "['HighJump', 'Roll Over', 'LowJump', 'Roll Upside Down']\n",
      "Bull Dog\n",
      "['LowJump', 'Roll Upside Down']\n",
      "['HighJump', 'Roll Over', 'LowJump', 'Roll Upside Down']\n"
     ]
    }
   ],
   "source": [
    "#Differentiating between common data members and instance data members\n",
    "class Dog():\n",
    "    color=\"Brown\"\n",
    "    #data members declared here are common data members\n",
    "    ComActivities=[]\n",
    "    def __init__(self,breed):\n",
    "        self.activities=[]\n",
    "        self.breed=breed\n",
    "    def addActivity(self,act):\n",
    "        self.activities.append(act)\n",
    "        self.ComActivities.append(act)\n",
    "    def doActivity(self):\n",
    "        print(self.breed)\n",
    "        print(self.activities)\n",
    "        print(self.ComActivities)\n",
    "\n",
    "\n",
    "d1= Dog(\"German Shephard\")\n",
    "d2= Dog(\"Bull Dog\")\n",
    "\n",
    "d1.addActivity(\"HighJump\")\n",
    "d1.addActivity(\"Roll Over\")\n",
    "\n",
    "d2.addActivity(\"LowJump\")\n",
    "d2.addActivity(\"Roll Upside Down\")\n",
    "\n",
    "d1.doActivity()\n",
    "d2.doActivity()\n",
    "\n",
    "#We can very well observe that the ComActivities list stores all the dog activities for every object created of the class while the activities list is different for every instance of the class or every object.\n",
    "#This is how common data members and instance data members are different."
   ]
  },
  {
   "cell_type": "code",
   "execution_count": 2,
   "metadata": {},
   "outputs": [
    {
     "name": "stdout",
     "output_type": "stream",
     "text": [
      "German Shephard\n",
      "['HighJump', 'Roll Over']\n",
      "{'Roll Over', 'Roll Upside Down', 'HighJump', 'LowJump'}\n",
      "German Shephard is doing a secret activity.\n",
      "Bull Dog\n",
      "['LowJump', 'Roll Upside Down']\n",
      "{'Roll Over', 'Roll Upside Down', 'HighJump', 'LowJump'}\n",
      "Bull Dog is doing a secret activity.\n"
     ]
    }
   ],
   "source": [
    "#Now we will learn about access modifiers\n",
    "#Differentiating between common data members and instance data members\n",
    "class Dogs():\n",
    "    color=\"Brown\"\n",
    "    #data members declared here are common data members\n",
    "    ComActivities=set()\n",
    "    def __init__(self,breed):\n",
    "        self.activities=[]\n",
    "        self.breed=breed\n",
    "    def addActivity(self,act):\n",
    "        \"\"\"Adds activity of a dog to the list of activities.\"\"\"\n",
    "        self.activities.append(act)\n",
    "        self.ComActivities.add(act)\n",
    "    #this is a private class member function\n",
    "    def __secretActivity(self):\n",
    "        print(self.breed + \" is doing a secret activity.\")\n",
    "    def doActivity(self):\n",
    "        \"\"\"Tells about what all activities does the dog do\"\"\"\n",
    "        print(self.breed)\n",
    "        print(self.activities)\n",
    "        print(self.ComActivities)\n",
    "        self.__secretActivity()\n",
    "\n",
    "\n",
    "d1= Dogs(\"German Shephard\")\n",
    "d2= Dogs(\"Bull Dog\")\n",
    "\n",
    "d1.addActivity(\"HighJump\")\n",
    "d1.addActivity(\"Roll Over\")\n",
    "#d1.__secretActivity()\n",
    "\n",
    "d2.addActivity(\"LowJump\")\n",
    "d2.addActivity(\"Roll Upside Down\")\n",
    "#d2.__secretActivity()\n",
    "\n",
    "d1.doActivity()\n",
    "d2.doActivity()\n",
    "\n",
    "\n",
    "\n",
    "\n"
   ]
  },
  {
   "cell_type": "code",
   "execution_count": null,
   "metadata": {},
   "outputs": [],
   "source": []
  },
  {
   "cell_type": "code",
   "execution_count": null,
   "metadata": {},
   "outputs": [],
   "source": []
  },
  {
   "cell_type": "code",
   "execution_count": null,
   "metadata": {},
   "outputs": [],
   "source": []
  },
  {
   "cell_type": "code",
   "execution_count": null,
   "metadata": {},
   "outputs": [],
   "source": []
  },
  {
   "cell_type": "code",
   "execution_count": null,
   "metadata": {},
   "outputs": [],
   "source": []
  }
 ],
 "metadata": {
  "kernelspec": {
   "display_name": "Python 3",
   "language": "python",
   "name": "python3"
  },
  "language_info": {
   "codemirror_mode": {
    "name": "ipython",
    "version": 3
   },
   "file_extension": ".py",
   "mimetype": "text/x-python",
   "name": "python",
   "nbconvert_exporter": "python",
   "pygments_lexer": "ipython3",
   "version": "3.8.3"
  }
 },
 "nbformat": 4,
 "nbformat_minor": 4
}
